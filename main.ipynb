{
 "cells": [
  {
   "cell_type": "code",
   "execution_count": 8,
   "id": "bb81f994",
   "metadata": {},
   "outputs": [],
   "source": [
    "import easyocr\n",
    "import pandas as pd\n",
    "import numpy as np\n",
    "import matplotlib.pyplot as plt\n",
    "from PIL import Image, ImageDraw, ImageFont, ImageShow\n",
    "from utils.ocr_data_models import OCRData\n",
    "from utils.metrics import OCRMetrics\n",
    "import tqdm\n",
    "import json\n",
    "import os"
   ]
  },
  {
   "cell_type": "code",
   "execution_count": 2,
   "id": "b5804b38",
   "metadata": {},
   "outputs": [],
   "source": [
    "custom_model_path = './custom_example/model'\n",
    "custom_network_path = './custom_example/user_network'\n",
    "\n",
    "reader_base = easyocr.Reader(\n",
    "    lang_list=['en', 'th'],\n",
    "    detector=False,\n",
    "    gpu=True,\n",
    "    download_enabled=False\n",
    ")\n",
    "\n",
    "reader_custom_v1 = easyocr.Reader(\n",
    "    lang_list=['en', 'th'],\n",
    "    detector=False,\n",
    "    gpu=True,\n",
    "    download_enabled=False,\n",
    "    recog_network='custom_thai_v1',\n",
    "    model_storage_directory='./custom_example/model',\n",
    "    user_network_directory='./custom_example/user_network'\n",
    ")"
   ]
  },
  {
   "cell_type": "code",
   "execution_count": 3,
   "id": "202ae9e7",
   "metadata": {},
   "outputs": [
    {
     "name": "stdout",
     "output_type": "stream",
     "text": [
      "Total images: 4985\n"
     ]
    }
   ],
   "source": [
    "folder_images = '/Volumes/BACKUP/data/processed/'\n",
    "pd_files = pd.read_csv('/Volumes/BACKUP/data/processed/file_mapping.csv')\n",
    "print(f\"Total images: {len(pd_files)}\")"
   ]
  },
  {
   "cell_type": "code",
   "execution_count": null,
   "id": "c8ea6523",
   "metadata": {},
   "outputs": [
    {
     "name": "stderr",
     "output_type": "stream",
     "text": [
      "Processing images:   0%|          | 0/20 [00:00<?, ?it/s]/Users/puem/Documents/NECTEC/tmp/easyocr_test/.venv/lib/python3.10/site-packages/torch/utils/data/dataloader.py:683: UserWarning: 'pin_memory' argument is set as true but not supported on MPS now, then device pinned memory won't be used.\n",
      "  warnings.warn(warn_msg)\n",
      "Processing images: 100%|██████████| 20/20 [00:08<00:00,  2.48it/s]\n"
     ]
    }
   ],
   "source": [
    "selected = pd_files.sample(n=20, random_state=42)\n",
    "\n",
    "all_references = []\n",
    "all_hypotheses = []\n",
    "all_images_info = []\n",
    "\n",
    "for index, row in tqdm.tqdm(selected.iterrows(), total=len(selected), desc=\"Processing images\"):\n",
    "    new_json_name: OCRData = OCRData.from_json(json_path=folder_images + row['new_json_name'])\n",
    "    image_path = folder_images + row['new_image_name']\n",
    "    boxs = new_json_name.programs\n",
    "    \n",
    "    if len(boxs) == 0:\n",
    "        print(f\"No boxes found in image {row['new_image_name']}\")\n",
    "        continue\n",
    "        \n",
    "    for i, box in enumerate(boxs[0].frames[0].text_regions):\n",
    "        cropped_image = Image.open(image_path).crop((box.x, box.y, box.x + box.width, box.y + box.height))\n",
    "        ocr_matrix = reader_base.recognize(np.array(cropped_image))\n",
    "        ocr_text = ocr_matrix[0][1] if ocr_matrix else \"No text\"\n",
    "        ground_truth = box.text.replace(\"\\n\", \"\")\n",
    "        \n",
    "        all_references.append(ground_truth)\n",
    "        all_hypotheses.append(ocr_text)\n",
    "        all_images_info.append({\n",
    "            'image_name': row['new_image_name'],\n",
    "            'box_index': i,\n",
    "            'cropped_image': cropped_image,\n",
    "            'ground_truth': ground_truth,\n",
    "            'ocr_text': ocr_text\n",
    "        })"
   ]
  },
  {
   "cell_type": "code",
   "execution_count": null,
   "id": "30d916f5",
   "metadata": {},
   "outputs": [
    {
     "name": "stdout",
     "output_type": "stream",
     "text": [
      "Loaded semantic model: distiluse-base-multilingual-cased\n"
     ]
    },
    {
     "name": "stderr",
     "output_type": "stream",
     "text": [
      "Calculating metrics: 100%|██████████| 83/83 [00:01<00:00, 48.14it/s]\n"
     ]
    }
   ],
   "source": [
    "metrics = OCRMetrics()\n",
    "individual_metrics = []\n",
    "individual_metrics_path = './individual_metrics_realtime.json'\n",
    "if os.path.exists(individual_metrics_path):\n",
    "    os.remove(individual_metrics_path)\n",
    "\n",
    "try:\n",
    "    with open(individual_metrics_path, 'r', encoding='utf-8') as f:\n",
    "        existing_data = json.load(f)\n",
    "except FileNotFoundError:\n",
    "    existing_data = []\n",
    "\n",
    "for i, info in tqdm.tqdm(enumerate(all_images_info), total=len(all_images_info), desc=\"Calculating metrics\"):\n",
    "    individual_metrics.append(metrics.evaluate(reference=info['ground_truth'], hypothesis=info['ocr_text']))\n",
    "\n",
    "    with open(individual_metrics_path, 'w', encoding='utf-8') as f:\n",
    "        json.dump(existing_data + individual_metrics, f, ensure_ascii=False, indent=4)"
   ]
  }
 ],
 "metadata": {
  "kernelspec": {
   "display_name": "easyocr-test",
   "language": "python",
   "name": "python3"
  },
  "language_info": {
   "codemirror_mode": {
    "name": "ipython",
    "version": 3
   },
   "file_extension": ".py",
   "mimetype": "text/x-python",
   "name": "python",
   "nbconvert_exporter": "python",
   "pygments_lexer": "ipython3",
   "version": "3.10.7"
  }
 },
 "nbformat": 4,
 "nbformat_minor": 5
}
