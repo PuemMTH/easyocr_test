{
 "cells": [
  {
   "cell_type": "code",
   "execution_count": 1,
   "id": "bb81f994",
   "metadata": {},
   "outputs": [],
   "source": [
    "import easyocr"
   ]
  },
  {
   "cell_type": "code",
   "execution_count": 4,
   "id": "df6fd1e5",
   "metadata": {},
   "outputs": [],
   "source": [
    "reader = easyocr.Reader(\n",
    "    ['en', 'th'],\n",
    "    download_enabled=True,\n",
    "    gpu=True,\n",
    "    model_storage_directory='./models',\n",
    ")"
   ]
  }
 ],
 "metadata": {
  "kernelspec": {
   "display_name": "easyocr-test (3.10.7)",
   "language": "python",
   "name": "python3"
  },
  "language_info": {
   "codemirror_mode": {
    "name": "ipython",
    "version": 3
   },
   "file_extension": ".py",
   "mimetype": "text/x-python",
   "name": "python",
   "nbconvert_exporter": "python",
   "pygments_lexer": "ipython3",
   "version": "3.10.7"
  }
 },
 "nbformat": 4,
 "nbformat_minor": 5
}
