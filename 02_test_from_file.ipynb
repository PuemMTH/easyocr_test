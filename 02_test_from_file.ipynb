{
 "cells": [
  {
   "cell_type": "code",
   "execution_count": 2,
   "id": "2737e02a",
   "metadata": {},
   "outputs": [
    {
     "name": "stdout",
     "output_type": "stream",
     "text": [
      "\u001b[32mModel Name\u001b[0m\n",
      "\t\u001b[31mbase_model\u001b[0m\n",
      "\t\u001b[31mout_source_merge_kaggle_data_3gpus\u001b[0m\n",
      "\t\u001b[31mout_source_merge_kaggle_data_freeze_sequence_config_3gpus\u001b[0m\n",
      "\t\u001b[31mout_source_only_data_3gpus\u001b[0m\n",
      "\u001b[32mDataset Name\u001b[0m\n",
      "\t\u001b[31mprocessed_lmdb_format\u001b[0m\n",
      "\t\u001b[31mkaggle_test\u001b[0m\n"
     ]
    }
   ],
   "source": [
    "# reports/ocr_evaluation_20250726_063020/data/ocr_evaluation_detailed.csv\n",
    "import pandas as pd\n",
    "from colorama import Fore, Style\n",
    "import ast\n",
    "\n",
    "df = pd.read_csv('reports/ocr_evaluation_20250726_063020/data/ocr_evaluation_detailed.csv')\n",
    "\n",
    "print(Fore.GREEN + \"Model Name\" + Style.RESET_ALL)\n",
    "# print(df['model_name'].unique())\n",
    "for model in df['model_name'].unique():\n",
    "    print('\\t' + Fore.RED + model + Style.RESET_ALL)\n",
    "\n",
    "print(Fore.GREEN + \"Dataset Name\" + Style.RESET_ALL)\n",
    "# print(df['dataset_name'].unique())\n",
    "for dataset in df['dataset_name'].unique():\n",
    "    print('\\t' + Fore.RED + dataset + Style.RESET_ALL)"
   ]
  },
  {
   "cell_type": "code",
   "execution_count": 18,
   "id": "c207e79b",
   "metadata": {},
   "outputs": [
    {
     "name": "stdout",
     "output_type": "stream",
     "text": [
      "\u001b[31mbase_model\u001b[0m vs \u001b[34mprocessed_lmdb_format\u001b[0m\n",
      "\t\u001b[32mREF: \u001b[0m\u001b[32mนครศรีธรรมราช\u001b[0m\n",
      "\t\u001b[36mHYP: \u001b[0m\u001b[36mไนครศรีธรรมราช\u001b[0m\n",
      "\t\u001b[32mCER: 7.7%\u001b[0m\n",
      "\t\u001b[32mREF: \u001b[0m\u001b[32mสวัสดีค่ะคุณสิริมา คุณพิมพิมล และทีมงานทุกท่านค่ะ\u001b[0m\n",
      "\t\u001b[36mHYP: \u001b[0m\u001b[36mสวัสดีคะคุณสิริมา เคุณพิมพิมส ฺและทีมงานทุกท่านค่ะ\u001b[0m\n",
      "\t\u001b[32mCER: 8.2%\u001b[0m\n",
      "\u001b[31mbase_model\u001b[0m vs \u001b[34mkaggle_test\u001b[0m\n",
      "\t\u001b[32mREF: \u001b[0m\u001b[32mหาพลังงานทดเเทน\u001b[0m\n",
      "\t\u001b[36mHYP: \u001b[0m\u001b[36mหาพลังงานทดแทน\u001b[0m\n",
      "\t\u001b[32mCER: 13.3%\u001b[0m\n",
      "\t\u001b[32mREF: \u001b[0m\u001b[32mกรณีถือได้ว่า\u001b[0m\n",
      "\t\u001b[36mHYP: \u001b[0m\u001b[36mกรณีถือได้วา\u001b[0m\n",
      "\t\u001b[32mCER: 7.7%\u001b[0m\n",
      "\u001b[31mout_source_merge_kaggle_data_3gpus\u001b[0m vs \u001b[34mprocessed_lmdb_format\u001b[0m\n",
      "\t\u001b[32mREF: \u001b[0m\u001b[32mมูดี้ส์เพิ่มแนวโน้มฮ่องกงเป็น \"มีเสถียรภาพ\"\u001b[0m\n",
      "\t\u001b[36mHYP: \u001b[0m\u001b[36mขสี้สเพิ่มแนอปันับอ่องกงเปิน ชมีเสกียรกาพษ\u001b[0m\n",
      "\t\u001b[32mCER: 34.9%\u001b[0m\n",
      "\t\u001b[32mREF: \u001b[0m\u001b[32m3HDlive\u001b[0m\n",
      "\t\u001b[36mHYP: \u001b[0m\u001b[36m3HDlive\u001b[0m\n",
      "\t\u001b[32mCER: 0.0%\u001b[0m\n",
      "\u001b[31mout_source_merge_kaggle_data_3gpus\u001b[0m vs \u001b[34mkaggle_test\u001b[0m\n",
      "\t\u001b[32mREF: \u001b[0m\u001b[32mแม็คเคน:\u001b[0m\n",
      "\t\u001b[36mHYP: \u001b[0m\u001b[36mแม็คเคน:\u001b[0m\n",
      "\t\u001b[32mCER: 0.0%\u001b[0m\n",
      "\t\u001b[32mREF: \u001b[0m\u001b[32mสุขสนิท\u001b[0m\n",
      "\t\u001b[36mHYP: \u001b[0m\u001b[36mสุขสนิท\u001b[0m\n",
      "\t\u001b[32mCER: 0.0%\u001b[0m\n",
      "\u001b[31mout_source_merge_kaggle_data_freeze_sequence_config_3gpus\u001b[0m vs \u001b[34mprocessed_lmdb_format\u001b[0m\n",
      "\t\u001b[32mREF: \u001b[0m\u001b[32mสงขลาประดับไฟฉลองเทศกาลปีใหม่\u001b[0m\n",
      "\t\u001b[36mHYP: \u001b[0m\u001b[36mสงขลาปร-ด้บใผฉลอDเทศกาลปใหม่\u001b[0m\n",
      "\t\u001b[32mCER: 20.7%\u001b[0m\n",
      "\t\u001b[32mREF: \u001b[0m\u001b[32mวิธีการสมัครสินเชื่อเงินไชโย\u001b[0m\n",
      "\t\u001b[36mHYP: \u001b[0m\u001b[36mวิรีการสมัครสินเชื่อเงินไชโย\u001b[0m\n",
      "\t\u001b[32mCER: 3.6%\u001b[0m\n",
      "\u001b[31mout_source_merge_kaggle_data_freeze_sequence_config_3gpus\u001b[0m vs \u001b[34mkaggle_test\u001b[0m\n",
      "\t\u001b[32mREF: \u001b[0m\u001b[32m26.51\u001b[0m\n",
      "\t\u001b[36mHYP: \u001b[0m\u001b[36m26.51\u001b[0m\n",
      "\t\u001b[32mCER: 0.0%\u001b[0m\n",
      "\t\u001b[32mREF: \u001b[0m\u001b[32mอยากใช้สิทธิ\u001b[0m\n",
      "\t\u001b[36mHYP: \u001b[0m\u001b[36mอยากใช้สิท\u001b[0m\n",
      "\t\u001b[32mCER: 16.7%\u001b[0m\n",
      "\u001b[31mout_source_only_data_3gpus\u001b[0m vs \u001b[34mprocessed_lmdb_format\u001b[0m\n",
      "\t\u001b[32mREF: \u001b[0m\u001b[32mแม่ - \"ไอซ์ ปรีชญา\" ให้ข้อมูล ตร. ปมซื้อไซยาไนค์\u001b[0m\n",
      "\t\u001b[36mHYP: \u001b[0m\u001b[36mแม่-\"ไอซ์ปรีชญา\" ให้ข้อมูล ตร. บนซื้อไซยาไนค์\u001b[0m\n",
      "\t\u001b[32mCER: 10.4%\u001b[0m\n",
      "\t\u001b[32mREF: \u001b[0m\u001b[32mเข้มข่าวใหญ่\u001b[0m\n",
      "\t\u001b[36mHYP: \u001b[0m\u001b[36mเข้มข่าวใหญ่\u001b[0m\n",
      "\t\u001b[32mCER: 0.0%\u001b[0m\n",
      "\u001b[31mout_source_only_data_3gpus\u001b[0m vs \u001b[34mkaggle_test\u001b[0m\n",
      "\t\u001b[32mREF: \u001b[0m\u001b[32mถ้าคุณให้\u001b[0m\n",
      "\t\u001b[36mHYP: \u001b[0m\u001b[36mถาคุณใน\u001b[0m\n",
      "\t\u001b[32mCER: 33.3%\u001b[0m\n",
      "\t\u001b[32mREF: \u001b[0m\u001b[32m9-7-2557)\u001b[0m\n",
      "\t\u001b[36mHYP: \u001b[0m\u001b[36m9-7-25577\u001b[0m\n",
      "\t\u001b[32mCER: 11.1%\u001b[0m\n"
     ]
    }
   ],
   "source": [
    "df = pd.read_csv('reports/ocr_evaluation_20250726_063020/data/ocr_evaluation_detailed.csv')\n",
    "\n",
    "for model in df['model_name'].unique():\n",
    "    for dataset in df['dataset_name'].unique():\n",
    "        print(f\"{Fore.RED}{model}{Style.RESET_ALL} vs {Fore.BLUE}{dataset}{Style.RESET_ALL}\")\n",
    "        subset = df.query(\"model_name == @model and dataset_name == @dataset\").sample(2)\n",
    "        # print(f\"\\t{Fore.YELLOW}First 10 reference_words vs hypothesis_words:{Style.RESET_ALL}\")\n",
    "        for _, row in subset.iterrows():\n",
    "            reference_words = ' '.join(ast.literal_eval(row['reference_words']))\n",
    "            hypothesis_words = ' '.join(ast.literal_eval(row['hypothesis_words']))\n",
    "            cer = row['cer']\n",
    "            print(f\"\\t{Fore.GREEN}REF: {Style.RESET_ALL}{Fore.GREEN}{reference_words}{Style.RESET_ALL}\")\n",
    "            print(f\"\\t{Fore.CYAN}HYP: {Style.RESET_ALL}{Fore.CYAN}{hypothesis_words}{Style.RESET_ALL}\")\n",
    "            if cer == 1.0:\n",
    "                print(f\"\\t{Fore.RED}CER: {cer*100:.1f}%{Style.RESET_ALL}\")\n",
    "            elif cer < 0.5:\n",
    "                print(f\"\\t{Fore.GREEN}CER: {cer*100:.1f}%{Style.RESET_ALL}\")"
   ]
  }
 ],
 "metadata": {
  "kernelspec": {
   "display_name": ".venv",
   "language": "python",
   "name": "python3"
  },
  "language_info": {
   "codemirror_mode": {
    "name": "ipython",
    "version": 3
   },
   "file_extension": ".py",
   "mimetype": "text/x-python",
   "name": "python",
   "nbconvert_exporter": "python",
   "pygments_lexer": "ipython3",
   "version": "3.13.5"
  }
 },
 "nbformat": 4,
 "nbformat_minor": 5
}
